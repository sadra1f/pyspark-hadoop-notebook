{
 "cells": [
  {
   "cell_type": "code",
   "execution_count": null,
   "id": "362e0187-f539-4bd0-892a-c12d4d1da25b",
   "metadata": {},
   "outputs": [],
   "source": [
    "%pip install hdfs"
   ]
  },
  {
   "cell_type": "code",
   "execution_count": null,
   "id": "e7b4a229-3539-475a-84f7-d96752b2d1bf",
   "metadata": {},
   "outputs": [],
   "source": [
    "from hdfs import InsecureClient\n",
    "\n",
    "client = InsecureClient(\"http://hdfs-namenode:9870\")\n",
    "client.upload(\"/\", \"/home/jovyan/work/README.md\")"
   ]
  }
 ],
 "metadata": {
  "kernelspec": {
   "display_name": "Python 3 (ipykernel)",
   "language": "python",
   "name": "python3"
  },
  "language_info": {
   "codemirror_mode": {
    "name": "ipython",
    "version": 3
   },
   "file_extension": ".py",
   "mimetype": "text/x-python",
   "name": "python",
   "nbconvert_exporter": "python",
   "pygments_lexer": "ipython3",
   "version": "3.11.10"
  }
 },
 "nbformat": 4,
 "nbformat_minor": 5
}
